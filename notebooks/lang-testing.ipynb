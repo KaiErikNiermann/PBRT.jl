{
 "cells": [
  {
   "cell_type": "code",
   "execution_count": null,
   "metadata": {},
   "outputs": [],
   "source": [
    "using Pkg\n",
    "Pkg.activate(\"../\")\n",
    "using PBRT\n",
    "using Profile\n",
    "using PythonCall\n",
    "using PProf"
   ]
  },
  {
   "cell_type": "code",
   "execution_count": null,
   "metadata": {},
   "outputs": [],
   "source": [
    "function test_f(x, y)\n",
    "    return @pyexec (x=1.1, y=2.2) => `ans=x+y` => ans::Float64\n",
    "end\n",
    "\n",
    "println(code_lowered(test_f, (Float64, Float64)))"
   ]
  }
 ],
 "metadata": {
  "kernelspec": {
   "display_name": "Julia 1.10.2",
   "language": "julia",
   "name": "julia-1.10"
  },
  "language_info": {
   "file_extension": ".jl",
   "mimetype": "application/julia",
   "name": "julia",
   "version": "1.10.2"
  }
 },
 "nbformat": 4,
 "nbformat_minor": 2
}
