{
 "cells": [
  {
   "cell_type": "code",
   "execution_count": null,
   "metadata": {},
   "outputs": [],
   "source": [
    "using Base\n",
    "using LinearAlgebra\n",
    "using Distributions\n",
    "using PProf\n",
    "using Profile\n",
    "using ProfileView\n",
    "using StaticArrays\n",
    "using BenchmarkTools\n",
    "using Match\n",
    "\n",
    "include(\"../src/testing.jl\")\n",
    "\n",
    "include(\"../src/util.jl\")\n",
    "include(\"../src/interval.jl\")\n",
    "include(\"../src/ray.jl\")\n",
    "include(\"../src/material.jl\")\n",
    "include(\"../src/hittable.jl\")\n",
    "include(\"../src/aabb.jl\")\n",
    "include(\"../src/sphere.jl\")\n",
    "include(\"../src/triangle.jl\")\n",
    "include(\"../src/hittable_list.jl\")\n",
    "include(\"../src/bvh.jl\") \n",
    "include(\"../src/camera.jl\")\n",
    "include(\"../src/scene.jl\")\n",
    "\n",
    "include(\"../src/obj_reader.jl\")\n",
    "include(\"../src/RayTracer.jl\")\n"
   ]
  },
  {
   "cell_type": "code",
   "execution_count": null,
   "metadata": {},
   "outputs": [],
   "source": [
    "example_render()"
   ]
  },
  {
   "cell_type": "code",
   "execution_count": null,
   "metadata": {},
   "outputs": [],
   "source": [
    "# const SC = final_scene()\n",
    "# const SC = basic_scene()\n",
    "# const SC = simple_scene()\n",
    "# const SC = empty_scene()\n",
    "const SC = custom_scene(\"../scenes/cottage_obj.obj\")\n",
    "\n",
    "const SCALE::Float16 = 1.0 / SC.img.samples_per_pixel\n",
    "\n",
    "file = open(\"image.ppm\", \"w\")\n",
    "\n",
    "ProfileView.@profview gen_img(SC.img.width, SC.img.height, file, SC.world, SC.img)"
   ]
  }
 ],
 "metadata": {
  "kernelspec": {
   "display_name": "Julia 1.10.2",
   "language": "julia",
   "name": "julia-1.10"
  },
  "language_info": {
   "file_extension": ".jl",
   "mimetype": "application/julia",
   "name": "julia",
   "version": "1.10.2"
  }
 },
 "nbformat": 4,
 "nbformat_minor": 2
}
