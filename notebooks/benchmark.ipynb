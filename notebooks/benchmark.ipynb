{
 "cells": [
  {
   "cell_type": "code",
   "execution_count": 1,
   "metadata": {},
   "outputs": [
    {
     "name": "stderr",
     "output_type": "stream",
     "text": [
      "\u001b[32m\u001b[1m  Activating\u001b[22m\u001b[39m project at `/app`\n"
     ]
    }
   ],
   "source": [
    "using Pkg\n",
    "Pkg.activate(\"../.\")\n",
    "using PBRT \n",
    "using BenchmarkTools"
   ]
  },
  {
   "cell_type": "code",
   "execution_count": 2,
   "metadata": {},
   "outputs": [
    {
     "name": "stderr",
     "output_type": "stream",
     "text": [
      "0.0%┣                                               ┫ 0/5 [00:03<00:-14, -3s/it]\n"
     ]
    },
    {
     "ename": "UndefVarError",
     "evalue": "UndefVarError: `world` not defined",
     "output_type": "error",
     "traceback": [
      "UndefVarError: `world` not defined\n",
      "\n",
      "Stacktrace:\n",
      " [1] macro expansion\n",
      "   @ /app/src/macros.jl:7 [inlined]\n",
      " [2] ray_color(r::PBRT.ray, world::PBRT.hittable_list, depth::Int64)\n",
      "   @ PBRT /app/src/RayTracer.jl:13\n",
      " [3] gen_img(width::Int64, height::Int64, file::IOStream, world::PBRT.hittable_list, img::PBRT.image, c::PBRT.camera, scale::Float64)\n",
      "   @ PBRT /app/src/RayTracer.jl:54\n",
      " [4] #9\n",
      "   @ /app/src/RayTracer.jl:66 [inlined]\n",
      " [5] open(::PBRT.var\"#9#10\"{String}, ::String, ::Vararg{String}; kwargs::@Kwargs{})\n",
      "   @ Base ./io.jl:396\n",
      " [6] open\n",
      "   @ ./io.jl:393 [inlined]\n",
      " [7] example_render(scene_fp::String)\n",
      "   @ PBRT /app/src/RayTracer.jl:63\n",
      " [8] top-level scope\n",
      "   @ /app/notebooks/benchmark.ipynb:1"
     ]
    }
   ],
   "source": [
    "example_render(\"../scenes/cottage_obj.obj\")"
   ]
  }
 ],
 "metadata": {
  "kernelspec": {
   "display_name": "Julia 1.10.2",
   "language": "julia",
   "name": "julia-1.10"
  },
  "language_info": {
   "file_extension": ".jl",
   "mimetype": "application/julia",
   "name": "julia",
   "version": "1.10.2"
  }
 },
 "nbformat": 4,
 "nbformat_minor": 2
}
