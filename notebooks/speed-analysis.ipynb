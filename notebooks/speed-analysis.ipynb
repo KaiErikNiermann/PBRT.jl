{
 "cells": [
  {
   "cell_type": "code",
   "execution_count": null,
   "metadata": {},
   "outputs": [],
   "source": [
    "import pandas as pd\n",
    "import numpy as np \n",
    "import matplotlib.pyplot as plt"
   ]
  },
  {
   "cell_type": "code",
   "execution_count": null,
   "metadata": {},
   "outputs": [],
   "source": [
    "jl_df = pd.read_csv('jl_time.csv')\n",
    "jl_df['time'] = jl_df['time'][jl_df['time'] < np.percentile(jl_df['time'], 99)]\n",
    "\n",
    "py_df = pd.read_csv('py_time.csv')\n",
    "py_df['time'] = py_df['time'][py_df['time'] < np.percentile(py_df['time'], 99)]\n",
    "\n",
    "cpp_df = pd.read_csv('cpp_time.csv')\n",
    "cpp_df['time'] = cpp_df['time'][cpp_df['time'] < np.percentile(cpp_df['time'], 99)]\n",
    "\n",
    "\n",
    "plt.hist(jl_df['time'], bins=100, log=True, alpha=0.5, color='red')\n",
    "plt.hist(py_df['time'], bins=100, log=True, alpha=0.5, color='blue')\n",
    "plt.hist(cpp_df['time'], bins=100, log=True, alpha=0.5, color='green')\n",
    "plt.xlabel('Time (ms)')\n",
    "plt.ylabel('Frequency')\n",
    "plt.title('Time Distribution')\n",
    "plt.show()"
   ]
  }
 ],
 "metadata": {
  "kernelspec": {
   "display_name": ".venv",
   "language": "python",
   "name": "python3"
  },
  "language_info": {
   "codemirror_mode": {
    "name": "ipython",
    "version": 3
   },
   "file_extension": ".py",
   "mimetype": "text/x-python",
   "name": "python",
   "nbconvert_exporter": "python",
   "pygments_lexer": "ipython3",
   "version": "3.12.0"
  }
 },
 "nbformat": 4,
 "nbformat_minor": 2
}
