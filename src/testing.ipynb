{
 "cells": [
  {
   "cell_type": "code",
   "execution_count": 12,
   "metadata": {},
   "outputs": [
    {
     "name": "stderr",
     "output_type": "stream",
     "text": [
      "\u001b[32m\u001b[1m   Resolving\u001b[22m\u001b[39m package versions...\n",
      "\u001b[32m\u001b[1m  No Changes\u001b[22m\u001b[39m to `/app/Project.toml`\n",
      "\u001b[32m\u001b[1m  No Changes\u001b[22m\u001b[39m to `/app/Manifest.toml`\n"
     ]
    }
   ],
   "source": [
    "using Pkg \n",
    "Pkg.add(\"GeometryBasics\")\n",
    "using GLMakie\n",
    "using GeometryBasics: Point3f0, Point2f0\n",
    "using LinearAlgebra\n",
    "\n",
    "# Function to calculate circumcircle in 2D\n",
    "function circumcircle_2d(A, B, C)\n",
    "    \n",
    "    return circumcenter, circumradius\n",
    "end\n",
    "\n",
    "# Define the points of the 3D polygon\n",
    "points_3d = Point3f0[(12.726414, 13.161091, 1.224224), (12.666434, 12.797903, 0.384936), (12.565, 14.635716, -1.034951)]\n",
    "\n",
    "# Single vertex in 3D\n",
    "point_3d = Point3f0[(12.565362, 14.635716, -1.029877)]\n",
    "\n",
    "# Define the points of the 2D polygon\n",
    "points_2d = Point2f0[(-14.03495045316893, 11.75568353549764), (-13.668410332107563, 11.721750315840218), (-15.494314446345726, 11.489544276011042)]\n",
    "\n",
    "# Single point in 2D\n",
    "point_2d = Point2f0[(-15.494340255785103, 11.489905354773697)]\n",
    "\n",
    "# Calculate circumcircle for 2D polygon\n",
    "center_2d, radius_2d = circumcircle_2d(points_2d[1], points_2d[2], points_2d[3])\n",
    "\n",
    "# Create a Figure\n",
    "fig = Figure()\n",
    "\n",
    "# Add a 3D axis to the figure for the 3D polygon\n",
    "ax3d = Axis3(fig[1, 1])\n",
    "# Plot the 3D polygon using the mesh function\n",
    "mesh!(ax3d, points_3d)\n",
    "# Plot the 3D point on the 3D axis\n",
    "scatter!(ax3d, point_3d)\n",
    "\n",
    "# Add a 2D axis to the figure for the 2D polygon\n",
    "ax2d = Axis(fig[1, 2])\n",
    "# Plot the 2D polygon using the poly function\n",
    "poly!(ax2d, points_2d)\n",
    "# Plot the 2D point on the 2D axis\n",
    "scatter!(ax2d, point_2d)\n",
    "\n",
    "# Plot the circumcircle in 2D\n",
    "circumcircle_2d_points = [(center_2d[1] + radius_2d * cos(t), center_2d[2] + radius_2d * sin(t)) for t in 0:0.01:2pi]\n",
    "lines!(ax2d, circumcircle_2d_points)\n",
    "\n",
    "# Display the figure\n",
    "fig\n"
   ]
  }
 ],
 "metadata": {
  "kernelspec": {
   "display_name": "Julia 1.10.2",
   "language": "julia",
   "name": "julia-1.10"
  },
  "language_info": {
   "file_extension": ".jl",
   "mimetype": "application/julia",
   "name": "julia",
   "version": "1.10.2"
  }
 },
 "nbformat": 4,
 "nbformat_minor": 2
}
